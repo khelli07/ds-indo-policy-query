{
 "cells": [
  {
   "cell_type": "code",
   "execution_count": 1,
   "metadata": {},
   "outputs": [],
   "source": [
    "import pandas as pd \n",
    "import numpy as np\n",
    "import json\n",
    "\n",
    "import warnings\n",
    "warnings.filterwarnings(\"ignore\", category=UserWarning)"
   ]
  },
  {
   "cell_type": "code",
   "execution_count": 2,
   "metadata": {},
   "outputs": [],
   "source": [
    "f = open(\"data.json\", encoding=\"utf8\")\n",
    "data = json.load(f)"
   ]
  },
  {
   "cell_type": "code",
   "execution_count": 3,
   "metadata": {},
   "outputs": [],
   "source": [
    "df = pd.DataFrame(columns=[\"PERATURAN\", \"TENTANG\"])\n",
    "df.PERATURAN = data.keys()\n",
    "df.TENTANG = [val for _, val in data.items()]"
   ]
  },
  {
   "cell_type": "code",
   "execution_count": 4,
   "metadata": {},
   "outputs": [],
   "source": [
    "from sklearn.feature_extraction.text import TfidfVectorizer,CountVectorizer, TfidfTransformer\n",
    "from scipy.spatial.distance import cosine"
   ]
  },
  {
   "cell_type": "code",
   "execution_count": 5,
   "metadata": {},
   "outputs": [],
   "source": [
    "cv = CountVectorizer()\n",
    "tfv = TfidfVectorizer()\n",
    "\n",
    "# weight matrix\n",
    "cv_wm = cv.fit_transform(df.TENTANG)\n",
    "tfv_wm = tfv.fit_transform(df.TENTANG)\n",
    "tfv_tok = tfv.get_feature_names_out()"
   ]
  },
  {
   "cell_type": "code",
   "execution_count": 6,
   "metadata": {},
   "outputs": [],
   "source": [
    "df_ti = pd.DataFrame(data=tfv_wm.toarray(), columns=tfv_tok, index=df.PERATURAN)"
   ]
  },
  {
   "cell_type": "code",
   "execution_count": 7,
   "metadata": {},
   "outputs": [],
   "source": [
    "def get_distance_scipy(df_ti, qvec, i):\n",
    "    doc = np.matrix(df_ti.iloc[i])\n",
    "\n",
    "    if (np.sum(doc) == 0):\n",
    "        return 1.1\n",
    "    else:\n",
    "        return cosine(qvec, doc)"
   ]
  },
  {
   "cell_type": "code",
   "execution_count": 8,
   "metadata": {},
   "outputs": [],
   "source": [
    "input_query = \"pelecehan seksual\"\n",
    "query = [input_query]\n",
    "\n",
    "q_vector = tfv.transform(query)\n",
    "q_vector = np.matrix(q_vector.toarray())\n",
    "\n",
    "termvec = cv.transform(query)\n",
    "q_transform = TfidfTransformer()\n",
    "q_transform.fit(termvec)\n",
    "qvec = q_transform.transform(termvec)\n",
    "\n",
    "qvec = np.matrix(qvec.toarray())"
   ]
  },
  {
   "cell_type": "code",
   "execution_count": 9,
   "metadata": {},
   "outputs": [
    {
     "name": "stdout",
     "output_type": "stream",
     "text": [
      "1. PENCEGAHAN DAN PENANGANAN KEKERASAN SEKSUAL DI LINGKUNGAN PERGURUAN TINGGI\n",
      "2. PENCEGAHAN DAN PELARANGAN TRAFIKING UNTUK EKSPLOITASI SEKSUAL KOMERSIAL ANAK DI KABUPATEN INDRAMAYU\n",
      "3. TATA CARA PELAKSANAAN TINDAKAN KEBIRI KIMIA, PEMASANGAN ALAT PENDETEKSI ELEKTRONIK, REHABILITASI, DAN PENGUMUMAN IDENTITAS PELAKU KEKERASAN SEKSUAL TERHADAP ANAK\n",
      "4. PENGENDALIAN HUMAN IMMUNODEFICIENCY VIRUS/ACQUIRED \n",
      "IMMUNO DEFICIENCY SYNDROME (HIV/AIDS) DAN PENYAKIT\n",
      "MENULAR SEKSUAL (PMS) DI KABUPATEN PURWAKARTA\n",
      "5. PENYELENGGARAAN PELAYANAN KESEHATAN MASA SEBELUM HAMIL, MASA HAMIL, PERSALINAN, DAN MASA SESUDAH MELAHIRKAN, PELAYANAN KONTRASEPSI, DAN PELAYANAN KESEHATAN SEKSUAL\n",
      "6. PELAYANAN KESEHATAN MASA SEBELUM HAMIL, MASA HAMIL, PERSALINAN, DAN MASA SESUDAH MELAHIRKAN, PENYELENGGARAAN PELAYANAN KONTRASEPSI, SERTA PELAYANAN KESEHATAN SEKSUAL\n",
      "7. PERUBAHAN ATAS PERATURAN MENTERI PERHUBUNGAN NOMOR PM 1\n",
      "TAHUN 2019 TENTANG TATA CARA PENYELENGGARAAN KEWAJIBAN\n",
      "PELAYANAN PUBLIK BIDANG ANGKUTAN LAUT PENUMPANG KELAS EKONOMI\n",
      "8. INVESTASI PEMERINTAH KABUPATEN PASURUAN.\n",
      "9. ANGGARAN PENDAPATAN DAN BELANJA DAERAH KABUPATEN PEMALAN TAHUN ANGGARAN 2010.\n",
      "10. ORGANISASI DAN TATA KERJA KECAMATAN DAN KELURAHAN DI KABUPATEN POLEWALI MANDAR\n"
     ]
    }
   ],
   "source": [
    "df1 = df.copy()\n",
    "dist = []\n",
    "\n",
    "for i in range(df1.shape[0]):\n",
    "    dist.append(get_distance_scipy(df_ti, qvec, i))\n",
    "\n",
    "df1['DISTANCE'] = dist\n",
    "top_value = df1.sort_values(by=\"DISTANCE\").head(10)['TENTANG']"
   ]
  }
 ],
 "metadata": {
  "interpreter": {
   "hash": "63fd5069d213b44bf678585dea6b12cceca9941eaf7f819626cde1f2670de90d"
  },
  "kernelspec": {
   "display_name": "Python 3.9.5 64-bit",
   "language": "python",
   "name": "python3"
  },
  "language_info": {
   "codemirror_mode": {
    "name": "ipython",
    "version": 3
   },
   "file_extension": ".py",
   "mimetype": "text/x-python",
   "name": "python",
   "nbconvert_exporter": "python",
   "pygments_lexer": "ipython3",
   "version": "3.9.5"
  },
  "orig_nbformat": 4
 },
 "nbformat": 4,
 "nbformat_minor": 2
}
